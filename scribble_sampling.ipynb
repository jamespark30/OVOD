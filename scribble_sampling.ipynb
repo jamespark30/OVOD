{
 "cells": [
  {
   "cell_type": "code",
   "execution_count": 6,
   "metadata": {},
   "outputs": [],
   "source": [
    "import math\n",
    "import random\n",
    "import torch\n",
    "import numpy as np\n",
    "\n",
    "class NeighborhoodSampling:\n",
    "    \"\"\"\n",
    "        checkboard:   0  1  2\n",
    "                      3  4  5\n",
    "                      6  7  8\n",
    "        context boxes: [0, 1, 2, 3, 5, 6, 7, 8]\n",
    "        candidate_groups: 2 ** 8 = 256\n",
    "        box: tensor\n",
    "    \"\"\"\n",
    "    def __init__(self,\n",
    "                 max_groups=4,\n",
    "                 max_permutations=4,\n",
    "                 alpha=3.0,\n",
    "                 cut_off_thr=0.5,\n",
    "                 base_probability=0.5,\n",
    "                 interval=0.0,\n",
    "                 **kwargs):\n",
    "        \n",
    "        self.max_groups = max_groups\n",
    "        self.max_permutations = max_permutations\n",
    "        self.alpha = alpha\n",
    "        self.cut_off_thr = cut_off_thr\n",
    "        self.base_probability = base_probability\n",
    "        self.interval = interval\n",
    "        \n",
    "        \n",
    "        box_ids = []\n",
    "        left_right_up_downs = []\n",
    "        box_templates = []\n",
    "        for i in range(3):\n",
    "            h_interval = (float(i) - 1.0) * self.interval\n",
    "            for j in range(3):\n",
    "                w_interval = (float(j) - 1.0) * self.interval\n",
    "                box = [float(j) + w_interval, float(i) + h_interval,\n",
    "                       float(j+1) + w_interval, float(i+1) + h_interval]\n",
    "                box_templates.append(box)\n",
    "        self.box_templates = np.array(box_templates, dtype=np.float32)\n",
    "        self.binary_mask_template = 10 ** np.arange(9, dtype=np.float32)\n",
    "\n",
    "\n",
    "        for l in range(2):       # left: -1\n",
    "            for r in range(2):   # right +1\n",
    "                for u in range(2):    # up -3\n",
    "                    for d in range(2):  # down  +3\n",
    "                        left_right_up_downs.append([l, r, u, d])\n",
    "                        box_ids.append(list({4-l-3*u, 4-3*u, 4+r-3*u,\n",
    "                                             4-l,     4,     4+r,\n",
    "                                             4-l+3*d, 4+3*d, 4+r+3*d}))\n",
    "        self.box_ids = box_ids\n",
    "        self.left_right_up_downs = np.array(left_right_up_downs, dtype=np.float32)\n",
    "        self.context_box_ids = [0, 1, 2, 3, 5, 6, 7, 8]\n",
    "        \n",
    "        \n",
    "        print(f'box_templates: {self.box_templates}')\n",
    "        print(f'box_ids: {self.box_ids}')\n",
    "        print(f'binary_mask_template: {self.binary_mask_template}')\n",
    "        print(f'left_right_up_downs: {self.left_right_up_downs}')\n",
    "        \n"
   ]
  },
  {
   "cell_type": "code",
   "execution_count": 9,
   "metadata": {},
   "outputs": [
    {
     "name": "stdout",
     "output_type": "stream",
     "text": [
      "box_templates: [[0. 0. 1. 1.]\n",
      " [1. 0. 2. 1.]\n",
      " [2. 0. 3. 1.]\n",
      " [0. 1. 1. 2.]\n",
      " [1. 1. 2. 2.]\n",
      " [2. 1. 3. 2.]\n",
      " [0. 2. 1. 3.]\n",
      " [1. 2. 2. 3.]\n",
      " [2. 2. 3. 3.]]\n",
      "box_ids: [[4], [4, 7], [1, 4], [1, 4, 7], [4, 5], [8, 4, 5, 7], [1, 2, 4, 5], [1, 2, 4, 5, 7, 8], [3, 4], [3, 4, 6, 7], [0, 1, 3, 4], [0, 1, 3, 4, 6, 7], [3, 4, 5], [3, 4, 5, 6, 7, 8], [0, 1, 2, 3, 4, 5], [0, 1, 2, 3, 4, 5, 6, 7, 8]]\n",
      "binary_mask_template: [1.e+00 1.e+01 1.e+02 1.e+03 1.e+04 1.e+05 1.e+06 1.e+07 1.e+08]\n",
      "left_right_up_downs: [[0. 0. 0. 0.]\n",
      " [0. 0. 0. 1.]\n",
      " [0. 0. 1. 0.]\n",
      " [0. 0. 1. 1.]\n",
      " [0. 1. 0. 0.]\n",
      " [0. 1. 0. 1.]\n",
      " [0. 1. 1. 0.]\n",
      " [0. 1. 1. 1.]\n",
      " [1. 0. 0. 0.]\n",
      " [1. 0. 0. 1.]\n",
      " [1. 0. 1. 0.]\n",
      " [1. 0. 1. 1.]\n",
      " [1. 1. 0. 0.]\n",
      " [1. 1. 0. 1.]\n",
      " [1. 1. 1. 0.]\n",
      " [1. 1. 1. 1.]]\n"
     ]
    }
   ],
   "source": [
    "nhs = NeighborhoodSampling()\n"
   ]
  },
  {
   "cell_type": "code",
   "execution_count": null,
   "metadata": {},
   "outputs": [],
   "source": []
  },
  {
   "cell_type": "code",
   "execution_count": null,
   "metadata": {},
   "outputs": [],
   "source": [
    "<InstanceData(\n",
    "\n",
    "    META INFORMATION\n",
    "    pad_shape: (736, 992)\n",
    "    img_path: '/work/ovdet/data/coco/train2017/000000429593.jpg'\n",
    "    ori_shape: (480, 640)\n",
    "    img_shape: (736, 981)\n",
    "    flip: False\n",
    "    img_id: 429593\n",
    "    flip_direction: None\n",
    "    scale_factor: (1.5328125, 1.5333333333333334)\n",
    "    batch_input_shape: (736, 992)\n",
    "\n",
    "    DATA FIELDS\n",
    "    scores: tensor([1.0000, 1.0000, 0.9995, 0.9995, 0.9990, 0.9985, 0.9985, 0.9946, 0.9941,\n",
    "                0.9893, 0.9854, 0.9790, 0.9536, 0.9097], device='cuda:0')\n",
    "    bboxes: tensor([[914.1723, 540.0206, 975.8277, 673.9794],\n",
    "                [664.4435, 303.4160, 881.5052, 503.6693],\n",
    "                [245.9763, 495.5276, 533.5237, 567.4724],\n",
    "                [  5.8639, 415.7931, 118.1361, 536.2069],\n",
    "                [ 32.9593,  98.2998, 981.0000, 736.0000],\n",
    "                [666.2534, 213.6198, 825.7466, 321.3802],\n",
    "                [ 26.4330,   7.1967, 280.8170, 293.5533],\n",
    "                [261.0216, 393.5546, 400.4784, 470.4454],\n",
    "                [114.1597, 334.7249, 219.0903, 459.7751],\n",
    "                [550.5017, 680.2295, 717.4983, 723.7705],\n",
    "                [126.7657, 504.3645, 265.2343, 568.6355],\n",
    "                [568.2763, 343.0470, 623.7237, 487.9530],\n",
    "                [872.4855,  17.8971, 963.5145, 107.1654],\n",
    "                [262.6717,  86.1948, 339.3283, 181.8052]], device='cuda:0')"
   ]
  },
  {
   "cell_type": "code",
   "execution_count": 10,
   "metadata": {},
   "outputs": [
    {
     "ename": "IndexError",
     "evalue": "index 2 is out of bounds for dimension 0 with size 1",
     "output_type": "error",
     "traceback": [
      "\u001b[0;31m---------------------------------------------------------------------------\u001b[0m",
      "\u001b[0;31mIndexError\u001b[0m                                Traceback (most recent call last)",
      "\u001b[0;32m/tmp/ipykernel_29651/3547315785.py\u001b[0m in \u001b[0;36m<module>\u001b[0;34m\u001b[0m\n\u001b[1;32m      2\u001b[0m \u001b[0mscaled_bbox\u001b[0m  \u001b[0;34m=\u001b[0m \u001b[0mtorch\u001b[0m\u001b[0;34m.\u001b[0m\u001b[0mtensor\u001b[0m\u001b[0;34m(\u001b[0m\u001b[0;34m[\u001b[0m\u001b[0;34m[\u001b[0m \u001b[0;36m488.2089\u001b[0m\u001b[0;34m,\u001b[0m  \u001b[0;36m811.9690\u001b[0m\u001b[0;34m,\u001b[0m  \u001b[0;36m679.3351\u001b[0m\u001b[0;34m,\u001b[0m \u001b[0;36m1092.7760\u001b[0m\u001b[0;34m]\u001b[0m\u001b[0;34m]\u001b[0m\u001b[0;34m)\u001b[0m\u001b[0;34m\u001b[0m\u001b[0;34m\u001b[0m\u001b[0m\n\u001b[1;32m      3\u001b[0m \u001b[0;34m\u001b[0m\u001b[0m\n\u001b[0;32m----> 4\u001b[0;31m \u001b[0mscaled_bbox\u001b[0m\u001b[0;34m[\u001b[0m\u001b[0;34m[\u001b[0m\u001b[0;34m[\u001b[0m\u001b[0;36m0\u001b[0m\u001b[0;34m,\u001b[0m\u001b[0;36m2\u001b[0m\u001b[0;34m]\u001b[0m\u001b[0;34m]\u001b[0m\u001b[0;34m]\u001b[0m \u001b[0;34m/=\u001b[0m \u001b[0;36m2\u001b[0m\u001b[0;34m\u001b[0m\u001b[0;34m\u001b[0m\u001b[0m\n\u001b[0m\u001b[1;32m      5\u001b[0m \u001b[0;34m\u001b[0m\u001b[0m\n\u001b[1;32m      6\u001b[0m \u001b[0mprint\u001b[0m\u001b[0;34m(\u001b[0m\u001b[0mscaled_bbox\u001b[0m\u001b[0;34m)\u001b[0m\u001b[0;34m\u001b[0m\u001b[0;34m\u001b[0m\u001b[0m\n",
      "\u001b[0;31mIndexError\u001b[0m: index 2 is out of bounds for dimension 0 with size 1"
     ]
    }
   ],
   "source": [
    "import torch\n",
    "scaled_bbox  = torch.tensor([[ 488.2089,  811.9690,  679.3351, 1092.7760]])\n",
    "\n",
    "scaled_bbox[[[0,0]]] /= 2\n",
    "\n",
    "print(scaled_bbox)"
   ]
  },
  {
   "cell_type": "code",
   "execution_count": null,
   "metadata": {},
   "outputs": [],
   "source": [
    "[[0.6035, 0.6260, 0.6260, 0.6060, 0.6060, 0.4102, 0.4102, 0.4148, 0.3523, 0.3523],\n",
    " [0.5972, 0.6421,   -inf, 0.6016, 0.6016, 0.3845, 0.3845, 0.3752, 0.3567, 0.3567],\n",
    " [0.5688,   -inf, 0.6313, 0.6069, 0.6069, 0.3840, 0.3840, 0.3804, 0.3391, 0.3391],\n",
    " [0.5327, 0.5894, 0.5894, 0.5869,   -inf, 0.3784, 0.3784, 0.3584, 0.3311, 0.3311],\n",
    " [0.4973, 0.5469, 0.5469,   -inf, 0.5640, 0.3660, 0.3660, 0.3372, 0.3108, 0.3108],\n",
    " [0.3708, 0.3650, 0.3650, 0.4307, 0.4307, 0.5928,   -inf, 0.5752, 0.4429, 0.4429],\n",
    " [0.3381, 0.3369, 0.3369, 0.3904, 0.3904,   -inf, 0.5811, 0.5713, 0.4309, 0.4309],\n",
    " [0.3977, 0.4116, 0.4116, 0.4099, 0.4099, 0.5723, 0.5723, 0.6152, 0.4602, 0.4602],\n",
    " [0.3281, 0.3159, 0.3159, 0.3108, 0.3108, 0.5049, 0.5049, 0.5327, 0.5234,   -inf],\n",
    " [0.3237, 0.3167, 0.3167, 0.3247, 0.3247, 0.4253, 0.4253, 0.4412,   -inf, 0.4844]]"
   ]
  },
  {
   "cell_type": "code",
   "execution_count": null,
   "metadata": {},
   "outputs": [],
   "source": []
  }
 ],
 "metadata": {
  "kernelspec": {
   "display_name": "base",
   "language": "python",
   "name": "python3"
  },
  "language_info": {
   "codemirror_mode": {
    "name": "ipython",
    "version": 3
   },
   "file_extension": ".py",
   "mimetype": "text/x-python",
   "name": "python",
   "nbconvert_exporter": "python",
   "pygments_lexer": "ipython3",
   "version": "3.7.10"
  }
 },
 "nbformat": 4,
 "nbformat_minor": 2
}
